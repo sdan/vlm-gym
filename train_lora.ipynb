{
 "cells": [
  {
   "cell_type": "markdown",
   "metadata": {},
   "source": [
    "# VLM-RL Training with LoRA\n",
    "\n",
    "Quick training setup for Qwen3-VL with LoRA fine-tuning on PPO."
   ]
  },
  {
   "cell_type": "markdown",
   "source": "## Setup Dependencies\n\nInstall required packages for Colab environment:",
   "metadata": {}
  },
  {
   "cell_type": "code",
   "source": "# Install specific transformers version required for Qwen3-VL\n!pip install transformers==4.57.1\n\n# Clone repo and install if running on Colab\nimport os\nif 'COLAB_GPU' in os.environ:\n    !git clone https://github.com/sdan/vlm-gym.git\n    %cd vlm-gym\n    !pip install -e .\nelse:\n    # Running locally - install in editable mode if not already installed\n    try:\n        import vlmrl\n        print(\"✓ vlmrl already installed\")\n    except ImportError:\n        print(\"Installing vlmrl in editable mode...\")\n        !pip install -e .\n        print(\"✓ vlmrl installed\")",
   "metadata": {},
   "execution_count": null,
   "outputs": []
  },
  {
   "cell_type": "code",
   "execution_count": null,
   "metadata": {},
   "source": "# Check working directory\nimport os\nprint(f\"Working directory: {os.getcwd()}\")",
   "outputs": []
  },
  {
   "cell_type": "markdown",
   "source": "## Convert HF Checkpoint to JAX\n\nDownload and convert Qwen3-VL checkpoint from HuggingFace to JAX format for LoRA training:",
   "metadata": {}
  },
  {
   "cell_type": "code",
   "source": "# Convert Qwen3-VL-2B from HuggingFace to JAX format\n!python -m vlmrl.utils.hf_to_jax \\\n    --model_type qwen3vl \\\n    --hf_repo Qwen/Qwen3-VL-2B-Instruct \\\n    --model_dir checkpoints/qwen3vl_2b\n\nprint(\"✓ Checkpoint converted and ready for LoRA training\")",
   "metadata": {},
   "execution_count": null,
   "outputs": []
  },
  {
   "cell_type": "markdown",
   "metadata": {},
   "source": "## Training Configuration\n\nThis notebook runs a quick training session with:\n- **Model**: Qwen3-VL-2B-Instruct\n- **LoRA**: Enabled (rank=16, alpha=32, lr_mult=10.0)\n- **Training**: 50 steps, batch_size=4, PPO epochs=1\n- **Optimizer**: AdamW with lr=1e-6\n- **W&B**: Offline mode"
  },
  {
   "cell_type": "code",
   "execution_count": null,
   "metadata": {},
   "source": "# Training parameters\nconfig = {\n    'model_dir': 'checkpoints/qwen3vl_2b',\n    'wandb_mode': 'offline',\n    'total_steps': 50,\n    'batch_size': 4,\n    'ppo_epochs': 1,\n    'learning_rate': 1e-6,\n    'optimizer': 'adamw',\n    'lora_enable': 1,\n    'lora_rank': 16,\n    'lora_alpha': 32,\n    'lora_lr_mult': 10.0,\n}\n\n# Build command\ncmd_parts = ['python', '-m', 'vlmrl.core.train']\nfor key, value in config.items():\n    cmd_parts.append(f'--{key}')\n    cmd_parts.append(str(value))\n\ncommand = ' '.join(cmd_parts)\nprint(\"Training command:\")\nprint(command)",
   "outputs": []
  },
  {
   "cell_type": "markdown",
   "metadata": {},
   "source": [
    "## Run Training\n",
    "\n",
    "Execute the training run. This will:\n",
    "1. Load the Qwen3-VL model from checkpoint\n",
    "2. Initialize LoRA adapters\n",
    "3. Run PPO training for 50 steps\n",
    "4. Save checkpoints to the runs directory"
   ]
  },
  {
   "cell_type": "code",
   "execution_count": null,
   "metadata": {},
   "source": "# Run training - use = instead of space for flag values\n!python -m vlmrl.core.train \\\n    --model_dir=checkpoints/qwen3vl_2b \\\n    --wandb_mode=offline \\\n    --total_steps=50 \\\n    --batch_size=4 \\\n    --ppo_epochs=1 \\\n    --learning_rate=1e-6 \\\n    --optimizer=adamw \\\n    --lora_enable=1 \\\n    --lora_rank=16 \\\n    --lora_alpha=32 \\\n    --lora_lr_mult=10.0",
   "outputs": []
  },
  {
   "cell_type": "markdown",
   "metadata": {},
   "source": [
    "## Monitor Training\n",
    "\n",
    "Check the training outputs and W&B logs:"
   ]
  },
  {
   "cell_type": "code",
   "execution_count": null,
   "metadata": {},
   "source": [
    "# List saved checkpoints\n",
    "!ls -lh runs/"
   ],
   "outputs": []
  },
  {
   "cell_type": "code",
   "execution_count": null,
   "metadata": {},
   "source": [
    "# View W&B offline logs\n",
    "!ls -lh wandb/"
   ],
   "outputs": []
  },
  {
   "cell_type": "markdown",
   "source": "## Sample Rollout\n\nTest the trained model with a few sample episodes:",
   "metadata": {}
  },
  {
   "cell_type": "code",
   "source": "# Run sample rollouts on the geospot environment\n!python -m vlmrl.core.rollout \\\n    --model_dir checkpoints/qwen3vl_2b \\\n    --env_name geospot \\\n    --episodes 5 \\\n    --batch_size 1 \\\n    --temperature 0.7 \\\n    --top_p 0.9 \\\n    --max_new_tokens 64",
   "metadata": {},
   "execution_count": null,
   "outputs": []
  }
 ],
 "metadata": {
  "kernelspec": {
   "display_name": "Python 3",
   "language": "python",
   "name": "python3"
  },
  "language_info": {
   "codemirror_mode": {
    "name": "ipython",
    "version": 3
   },
   "file_extension": ".py",
   "mimetype": "text/x-python",
   "name": "python",
   "nbconvert_exporter": "python",
   "pygments_lexer": "ipython3",
   "version": "3.10.0"
  }
 },
 "nbformat": 4,
 "nbformat_minor": 4
}